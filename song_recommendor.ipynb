{
 "cells": [
  {
   "cell_type": "code",
   "execution_count": 2,
   "metadata": {},
   "outputs": [],
   "source": [
    "import numpy as np\n",
    "import pandas as pd"
   ]
  },
  {
   "cell_type": "code",
   "execution_count": 3,
   "metadata": {},
   "outputs": [],
   "source": [
    "df=pd.read_csv('songdata.csv')"
   ]
  },
  {
   "cell_type": "code",
   "execution_count": 4,
   "metadata": {},
   "outputs": [
    {
     "data": {
      "text/html": [
       "<div>\n",
       "<style scoped>\n",
       "    .dataframe tbody tr th:only-of-type {\n",
       "        vertical-align: middle;\n",
       "    }\n",
       "\n",
       "    .dataframe tbody tr th {\n",
       "        vertical-align: top;\n",
       "    }\n",
       "\n",
       "    .dataframe thead th {\n",
       "        text-align: right;\n",
       "    }\n",
       "</style>\n",
       "<table border=\"1\" class=\"dataframe\">\n",
       "  <thead>\n",
       "    <tr style=\"text-align: right;\">\n",
       "      <th></th>\n",
       "      <th>artist</th>\n",
       "      <th>song</th>\n",
       "      <th>link</th>\n",
       "      <th>text</th>\n",
       "    </tr>\n",
       "  </thead>\n",
       "  <tbody>\n",
       "    <tr>\n",
       "      <th>0</th>\n",
       "      <td>ABBA</td>\n",
       "      <td>Ahe's My Kind Of Girl</td>\n",
       "      <td>/a/abba/ahes+my+kind+of+girl_20598417.html</td>\n",
       "      <td>Look at her face, it's a wonderful face  \\nAnd...</td>\n",
       "    </tr>\n",
       "    <tr>\n",
       "      <th>1</th>\n",
       "      <td>ABBA</td>\n",
       "      <td>Andante, Andante</td>\n",
       "      <td>/a/abba/andante+andante_20002708.html</td>\n",
       "      <td>Take it easy with me, please  \\nTouch me gentl...</td>\n",
       "    </tr>\n",
       "    <tr>\n",
       "      <th>2</th>\n",
       "      <td>ABBA</td>\n",
       "      <td>As Good As New</td>\n",
       "      <td>/a/abba/as+good+as+new_20003033.html</td>\n",
       "      <td>I'll never know why I had to go  \\nWhy I had t...</td>\n",
       "    </tr>\n",
       "  </tbody>\n",
       "</table>\n",
       "</div>"
      ],
      "text/plain": [
       "  artist                   song                                        link  \\\n",
       "0   ABBA  Ahe's My Kind Of Girl  /a/abba/ahes+my+kind+of+girl_20598417.html   \n",
       "1   ABBA       Andante, Andante       /a/abba/andante+andante_20002708.html   \n",
       "2   ABBA         As Good As New        /a/abba/as+good+as+new_20003033.html   \n",
       "\n",
       "                                                text  \n",
       "0  Look at her face, it's a wonderful face  \\nAnd...  \n",
       "1  Take it easy with me, please  \\nTouch me gentl...  \n",
       "2  I'll never know why I had to go  \\nWhy I had t...  "
      ]
     },
     "execution_count": 4,
     "metadata": {},
     "output_type": "execute_result"
    }
   ],
   "source": [
    "df.head(3)"
   ]
  },
  {
   "cell_type": "code",
   "execution_count": 5,
   "metadata": {},
   "outputs": [
    {
     "data": {
      "text/plain": [
       "(57650, 4)"
      ]
     },
     "execution_count": 5,
     "metadata": {},
     "output_type": "execute_result"
    }
   ],
   "source": [
    "df.shape"
   ]
  },
  {
   "cell_type": "code",
   "execution_count": 6,
   "metadata": {},
   "outputs": [],
   "source": [
    "df=df.sample(n=10000)\n",
    "df=df.drop('link',axis=1)\n",
    "df=df.reset_index(drop=True)"
   ]
  },
  {
   "cell_type": "code",
   "execution_count": 7,
   "metadata": {},
   "outputs": [
    {
     "data": {
      "text/plain": [
       "(10000, 3)"
      ]
     },
     "execution_count": 7,
     "metadata": {},
     "output_type": "execute_result"
    }
   ],
   "source": [
    "df.shape"
   ]
  },
  {
   "cell_type": "markdown",
   "metadata": {},
   "source": [
    "CLEANING"
   ]
  },
  {
   "cell_type": "code",
   "execution_count": 8,
   "metadata": {},
   "outputs": [
    {
     "data": {
      "text/plain": [
       "'Hatfield'"
      ]
     },
     "execution_count": 8,
     "metadata": {},
     "output_type": "execute_result"
    }
   ],
   "source": [
    "df['song'][0]"
   ]
  },
  {
   "cell_type": "code",
   "execution_count": 9,
   "metadata": {},
   "outputs": [
    {
     "data": {
      "text/plain": [
       "'Wide awake in San Diego  \\nSmallest root shrinking dry  \\nThe fish are swimming closer inside Lake Morena  \\nStill get no rain from the sky  \\nMen were firing cannons  \\nHoping smoke might tear an angel\\'s eyes  \\nHeard the stories of shooting arrows  \\nTearin\\' open the clouds  \\nBut Indians shoot the best, and  \\nThe Indians they don\\'t like us, much  \\n  \\nHatfield  \\nYou made rain for L.A.  \\nWe\\'ve got ten grand  \\nFor you to go cook us some rain  \\n  \\nScience from the cooking pot mixing up with the air  \\nFeeling thunder  \\nNights since they have started  \\nNow the clouds won\\'t stay apart  \\nA little California voodoo  \\nCare of Hatfield and his brother  \\nNow the horses won\\'t race where the down\\'s turned to mud  \\nStreams and rivers are growing  \\nAnd my boots are filling up  \\nWater\\'s from back this way  \\nLook at them smiling, cooking and smiling  \\n  \\nHatfield  \\nMade rain for L.A.  \\nWell, \"Hot damn\",  \\nPeople swear with one walk in this rain  \\n  \\nFamilies on porches  \\nThe children are smiling  \\nThe owners are mad, owners are crying  \\nStill the eyes of the children, wide open  \\nWide, wide  \\n  \\nWell, the blue light is rolling in between the clouds  \\nFeeling of wonder  \\nSome water drying up, some sinking down  \\n\"Charles always kept in touch\", swears his mother  \\n\"Always had the touch\"  \\n  \\nMade rain for L.A.  \\nMade rain for L.A.  \\nHatfield\\n\\n'"
      ]
     },
     "execution_count": 9,
     "metadata": {},
     "output_type": "execute_result"
    }
   ],
   "source": [
    "df['text'][0]"
   ]
  },
  {
   "cell_type": "code",
   "execution_count": 10,
   "metadata": {},
   "outputs": [],
   "source": [
    "df['text']=df['text'].str.lower().replace(r'[^\\w\\s]','').replace(r'\\n','',regex=True)          #here \\w=word,\\s=string,^=negation(replace everything except words and string)"
   ]
  },
  {
   "cell_type": "code",
   "execution_count": 11,
   "metadata": {},
   "outputs": [
    {
     "data": {
      "text/plain": [
       "'wide awake in san diego  smallest root shrinking dry  the fish are swimming closer inside lake morena  still get no rain from the sky  men were firing cannons  hoping smoke might tear an angel\\'s eyes  heard the stories of shooting arrows  tearin\\' open the clouds  but indians shoot the best, and  the indians they don\\'t like us, much    hatfield  you made rain for l.a.  we\\'ve got ten grand  for you to go cook us some rain    science from the cooking pot mixing up with the air  feeling thunder  nights since they have started  now the clouds won\\'t stay apart  a little california voodoo  care of hatfield and his brother  now the horses won\\'t race where the down\\'s turned to mud  streams and rivers are growing  and my boots are filling up  water\\'s from back this way  look at them smiling, cooking and smiling    hatfield  made rain for l.a.  well, \"hot damn\",  people swear with one walk in this rain    families on porches  the children are smiling  the owners are mad, owners are crying  still the eyes of the children, wide open  wide, wide    well, the blue light is rolling in between the clouds  feeling of wonder  some water drying up, some sinking down  \"charles always kept in touch\", swears his mother  \"always had the touch\"    made rain for l.a.  made rain for l.a.  hatfield'"
      ]
     },
     "execution_count": 11,
     "metadata": {},
     "output_type": "execute_result"
    }
   ],
   "source": [
    "df['text'][0]"
   ]
  },
  {
   "cell_type": "markdown",
   "metadata": {},
   "source": [
    "TOKENIZATION (Changes all the form of word into base word eg.: loved,loving into love)"
   ]
  },
  {
   "cell_type": "code",
   "execution_count": 23,
   "metadata": {},
   "outputs": [],
   "source": [
    "import nltk\n",
    "from nltk.stem.porter import PorterStemmer\n",
    "\n",
    "ps=PorterStemmer()\n",
    "\n",
    "def tokenization(txt):\n",
    "    tokens= nltk.word_tokenize(txt)\n",
    "    stemming=[ps.stem(i) for i in tokens]\n",
    "    return \" \".join(stemming)"
   ]
  },
  {
   "cell_type": "code",
   "execution_count": 13,
   "metadata": {},
   "outputs": [],
   "source": [
    "df['text']=df['text'].apply(lambda x: tokenization(x))"
   ]
  },
  {
   "cell_type": "code",
   "execution_count": 14,
   "metadata": {},
   "outputs": [
    {
     "data": {
      "text/plain": [
       "0       wide awak in san diego smallest root shrink dr...\n",
       "1       vers 1 justic beckon for those who glori in th...\n",
       "2       just one glanc and i never had a chanc there a...\n",
       "3       i wa convert to the other side from the day i ...\n",
       "4       stand here alon with you wonder what it is tha...\n",
       "                              ...                        \n",
       "9995    a sens of doom the warn thi is our christ retu...\n",
       "9996    featur deep e written by alan parson and david...\n",
       "9997    you thought she 'd care for you and so you act...\n",
       "9998    you consid me the young apprentic caught betwe...\n",
       "9999    sleigh bell ring are you listen in the lane sn...\n",
       "Name: text, Length: 10000, dtype: object"
      ]
     },
     "execution_count": 14,
     "metadata": {},
     "output_type": "execute_result"
    }
   ],
   "source": [
    "df['text']"
   ]
  },
  {
   "cell_type": "code",
   "execution_count": 15,
   "metadata": {},
   "outputs": [],
   "source": [
    "from sklearn.feature_extraction.text import TfidfVectorizer\n",
    "from sklearn.metrics.pairwise import cosine_similarity"
   ]
  },
  {
   "cell_type": "code",
   "execution_count": 16,
   "metadata": {},
   "outputs": [],
   "source": [
    "tfid=TfidfVectorizer(stop_words='english')      #ignore common english words such as this,is,to etc\n",
    "matrix=tfid.fit_transform(df['text'])           #fit the vectorizer and transform into tf-idf vectors"
   ]
  },
  {
   "cell_type": "code",
   "execution_count": 17,
   "metadata": {},
   "outputs": [
    {
     "data": {
      "text/plain": [
       "(10000, 25709)"
      ]
     },
     "execution_count": 17,
     "metadata": {},
     "output_type": "execute_result"
    }
   ],
   "source": [
    "matrix.shape"
   ]
  },
  {
   "cell_type": "code",
   "execution_count": 18,
   "metadata": {},
   "outputs": [],
   "source": [
    "similarity=cosine_similarity(matrix)"
   ]
  },
  {
   "cell_type": "code",
   "execution_count": 19,
   "metadata": {},
   "outputs": [
    {
     "data": {
      "text/plain": [
       "array([1.        , 0.01433101, 0.01829757, ..., 0.02050291, 0.00550511,\n",
       "       0.0126527 ])"
      ]
     },
     "execution_count": 19,
     "metadata": {},
     "output_type": "execute_result"
    }
   ],
   "source": [
    "similarity[0]"
   ]
  },
  {
   "cell_type": "code",
   "execution_count": 20,
   "metadata": {},
   "outputs": [],
   "source": [
    "def recommendation(song):\n",
    "    idx= df[df['song']==song].index[0]\n",
    "    distance=sorted(list(enumerate(similarity[idx])),reverse=False, key=lambda x:x[1])\n",
    "    \n",
    "    songs=[]\n",
    "    for i in distance[1:21]:\n",
    "        songs.append(df.iloc[i[0]].song)\n",
    "    return songs"
   ]
  },
  {
   "cell_type": "code",
   "execution_count": 71,
   "metadata": {},
   "outputs": [],
   "source": [
    "import pickle\n",
    "pickle.dump(df,open('df.pkl','wb'))                        #5k samples\n",
    "pickle.dump(similarity,open('similarity.pkl','wb'))"
   ]
  },
  {
   "cell_type": "code",
   "execution_count": null,
   "metadata": {},
   "outputs": [],
   "source": [
    "import gzip\n",
    "import pickle\n",
    "with open('similarity.pkl','rb') as file:\n",
    "    original_data=pickle.load(file)\n",
    "with gzip.open('compressed_similarity.pickle.gz', 'wb') as file:\n",
    "    pickle.dump(original_data, file)"
   ]
  },
  {
   "cell_type": "code",
   "execution_count": 21,
   "metadata": {},
   "outputs": [
    {
     "data": {
      "text/plain": [
       "array(['Hatfield', 'Lest My Labor Be In Vain', 'True Romance', ...,\n",
       "       'Crazy Heart', 'Wrapped Around Your Finger', 'Winter Wonderland'],\n",
       "      dtype=object)"
      ]
     },
     "execution_count": 21,
     "metadata": {},
     "output_type": "execute_result"
    }
   ],
   "source": [
    "df['song'].values"
   ]
  }
 ],
 "metadata": {
  "kernelspec": {
   "display_name": "Python 3",
   "language": "python",
   "name": "python3"
  },
  "language_info": {
   "codemirror_mode": {
    "name": "ipython",
    "version": 3
   },
   "file_extension": ".py",
   "mimetype": "text/x-python",
   "name": "python",
   "nbconvert_exporter": "python",
   "pygments_lexer": "ipython3",
   "version": "3.10.6"
  },
  "orig_nbformat": 4
 },
 "nbformat": 4,
 "nbformat_minor": 2
}
